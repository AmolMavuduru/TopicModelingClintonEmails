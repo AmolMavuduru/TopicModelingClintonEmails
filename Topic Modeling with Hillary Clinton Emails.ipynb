{
 "cells": [
  {
   "cell_type": "markdown",
   "metadata": {},
   "source": [
    "# Topic Modeling with the Hillary Clinton Emails Dataset"
   ]
  },
  {
   "cell_type": "markdown",
   "metadata": {},
   "source": [
    "## Importing Libraries"
   ]
  },
  {
   "cell_type": "code",
   "execution_count": 1,
   "metadata": {
    "collapsed": true
   },
   "outputs": [],
   "source": [
    "import numpy as np\n",
    "import pandas as pd\n",
    "import matplotlib.pyplot as plt\n",
    "import seaborn as sns\n",
    "%matplotlib inline"
   ]
  },
  {
   "cell_type": "markdown",
   "metadata": {},
   "source": [
    "## Reading in and Preprocessing the Data"
   ]
  },
  {
   "cell_type": "code",
   "execution_count": 2,
   "metadata": {
    "collapsed": false
   },
   "outputs": [
    {
     "data": {
      "text/html": [
       "<div>\n",
       "<style scoped>\n",
       "    .dataframe tbody tr th:only-of-type {\n",
       "        vertical-align: middle;\n",
       "    }\n",
       "\n",
       "    .dataframe tbody tr th {\n",
       "        vertical-align: top;\n",
       "    }\n",
       "\n",
       "    .dataframe thead th {\n",
       "        text-align: right;\n",
       "    }\n",
       "</style>\n",
       "<table border=\"1\" class=\"dataframe\">\n",
       "  <thead>\n",
       "    <tr style=\"text-align: right;\">\n",
       "      <th></th>\n",
       "      <th>Id</th>\n",
       "      <th>DocNumber</th>\n",
       "      <th>MetadataSubject</th>\n",
       "      <th>MetadataTo</th>\n",
       "      <th>MetadataFrom</th>\n",
       "      <th>SenderPersonId</th>\n",
       "      <th>MetadataDateSent</th>\n",
       "      <th>MetadataDateReleased</th>\n",
       "      <th>MetadataPdfLink</th>\n",
       "      <th>MetadataCaseNumber</th>\n",
       "      <th>...</th>\n",
       "      <th>ExtractedTo</th>\n",
       "      <th>ExtractedFrom</th>\n",
       "      <th>ExtractedCc</th>\n",
       "      <th>ExtractedDateSent</th>\n",
       "      <th>ExtractedCaseNumber</th>\n",
       "      <th>ExtractedDocNumber</th>\n",
       "      <th>ExtractedDateReleased</th>\n",
       "      <th>ExtractedReleaseInPartOrFull</th>\n",
       "      <th>ExtractedBodyText</th>\n",
       "      <th>RawText</th>\n",
       "    </tr>\n",
       "  </thead>\n",
       "  <tbody>\n",
       "    <tr>\n",
       "      <th>0</th>\n",
       "      <td>1</td>\n",
       "      <td>C05739545</td>\n",
       "      <td>WOW</td>\n",
       "      <td>H</td>\n",
       "      <td>Sullivan, Jacob J</td>\n",
       "      <td>87.0</td>\n",
       "      <td>2012-09-12T04:00:00+00:00</td>\n",
       "      <td>2015-05-22T04:00:00+00:00</td>\n",
       "      <td>DOCUMENTS/HRC_Email_1_296/HRCH2/DOC_0C05739545...</td>\n",
       "      <td>F-2015-04841</td>\n",
       "      <td>...</td>\n",
       "      <td>NaN</td>\n",
       "      <td>Sullivan, Jacob J &lt;Sullivan11@state.gov&gt;</td>\n",
       "      <td>NaN</td>\n",
       "      <td>Wednesday, September 12, 2012 10:16 AM</td>\n",
       "      <td>F-2015-04841</td>\n",
       "      <td>C05739545</td>\n",
       "      <td>05/13/2015</td>\n",
       "      <td>RELEASE IN FULL</td>\n",
       "      <td>NaN</td>\n",
       "      <td>UNCLASSIFIED\\nU.S. Department of State\\nCase N...</td>\n",
       "    </tr>\n",
       "    <tr>\n",
       "      <th>1</th>\n",
       "      <td>2</td>\n",
       "      <td>C05739546</td>\n",
       "      <td>H: LATEST: HOW SYRIA IS AIDING QADDAFI AND MOR...</td>\n",
       "      <td>H</td>\n",
       "      <td>NaN</td>\n",
       "      <td>NaN</td>\n",
       "      <td>2011-03-03T05:00:00+00:00</td>\n",
       "      <td>2015-05-22T04:00:00+00:00</td>\n",
       "      <td>DOCUMENTS/HRC_Email_1_296/HRCH1/DOC_0C05739546...</td>\n",
       "      <td>F-2015-04841</td>\n",
       "      <td>...</td>\n",
       "      <td>NaN</td>\n",
       "      <td>NaN</td>\n",
       "      <td>NaN</td>\n",
       "      <td>NaN</td>\n",
       "      <td>F-2015-04841</td>\n",
       "      <td>C05739546</td>\n",
       "      <td>05/13/2015</td>\n",
       "      <td>RELEASE IN PART</td>\n",
       "      <td>B6\\nThursday, March 3, 2011 9:45 PM\\nH: Latest...</td>\n",
       "      <td>UNCLASSIFIED\\nU.S. Department of State\\nCase N...</td>\n",
       "    </tr>\n",
       "    <tr>\n",
       "      <th>2</th>\n",
       "      <td>3</td>\n",
       "      <td>C05739547</td>\n",
       "      <td>CHRIS STEVENS</td>\n",
       "      <td>;H</td>\n",
       "      <td>Mills, Cheryl D</td>\n",
       "      <td>32.0</td>\n",
       "      <td>2012-09-12T04:00:00+00:00</td>\n",
       "      <td>2015-05-22T04:00:00+00:00</td>\n",
       "      <td>DOCUMENTS/HRC_Email_1_296/HRCH2/DOC_0C05739547...</td>\n",
       "      <td>F-2015-04841</td>\n",
       "      <td>...</td>\n",
       "      <td>B6</td>\n",
       "      <td>Mills, Cheryl D &lt;MillsCD@state.gov&gt;</td>\n",
       "      <td>Abedin, Huma</td>\n",
       "      <td>Wednesday, September 12, 2012 11:52 AM</td>\n",
       "      <td>F-2015-04841</td>\n",
       "      <td>C05739547</td>\n",
       "      <td>05/14/2015</td>\n",
       "      <td>RELEASE IN PART</td>\n",
       "      <td>Thx</td>\n",
       "      <td>UNCLASSIFIED\\nU.S. Department of State\\nCase N...</td>\n",
       "    </tr>\n",
       "    <tr>\n",
       "      <th>3</th>\n",
       "      <td>4</td>\n",
       "      <td>C05739550</td>\n",
       "      <td>CAIRO CONDEMNATION - FINAL</td>\n",
       "      <td>H</td>\n",
       "      <td>Mills, Cheryl D</td>\n",
       "      <td>32.0</td>\n",
       "      <td>2012-09-12T04:00:00+00:00</td>\n",
       "      <td>2015-05-22T04:00:00+00:00</td>\n",
       "      <td>DOCUMENTS/HRC_Email_1_296/HRCH2/DOC_0C05739550...</td>\n",
       "      <td>F-2015-04841</td>\n",
       "      <td>...</td>\n",
       "      <td>NaN</td>\n",
       "      <td>Mills, Cheryl D &lt;MillsCD@state.gov&gt;</td>\n",
       "      <td>Mitchell, Andrew B</td>\n",
       "      <td>Wednesday, September 12,2012 12:44 PM</td>\n",
       "      <td>F-2015-04841</td>\n",
       "      <td>C05739550</td>\n",
       "      <td>05/13/2015</td>\n",
       "      <td>RELEASE IN PART</td>\n",
       "      <td>NaN</td>\n",
       "      <td>UNCLASSIFIED\\nU.S. Department of State\\nCase N...</td>\n",
       "    </tr>\n",
       "    <tr>\n",
       "      <th>4</th>\n",
       "      <td>5</td>\n",
       "      <td>C05739554</td>\n",
       "      <td>H: LATEST: HOW SYRIA IS AIDING QADDAFI AND MOR...</td>\n",
       "      <td>Abedin, Huma</td>\n",
       "      <td>H</td>\n",
       "      <td>80.0</td>\n",
       "      <td>2011-03-11T05:00:00+00:00</td>\n",
       "      <td>2015-05-22T04:00:00+00:00</td>\n",
       "      <td>DOCUMENTS/HRC_Email_1_296/HRCH1/DOC_0C05739554...</td>\n",
       "      <td>F-2015-04841</td>\n",
       "      <td>...</td>\n",
       "      <td>NaN</td>\n",
       "      <td>NaN</td>\n",
       "      <td>NaN</td>\n",
       "      <td>NaN</td>\n",
       "      <td>F-2015-04841</td>\n",
       "      <td>C05739554</td>\n",
       "      <td>05/13/2015</td>\n",
       "      <td>RELEASE IN PART</td>\n",
       "      <td>H &lt;hrod17@clintonemail.com&gt;\\nFriday, March 11,...</td>\n",
       "      <td>B6\\nUNCLASSIFIED\\nU.S. Department of State\\nCa...</td>\n",
       "    </tr>\n",
       "  </tbody>\n",
       "</table>\n",
       "<p>5 rows × 22 columns</p>\n",
       "</div>"
      ],
      "text/plain": [
       "   Id  DocNumber                                    MetadataSubject  \\\n",
       "0   1  C05739545                                                WOW   \n",
       "1   2  C05739546  H: LATEST: HOW SYRIA IS AIDING QADDAFI AND MOR...   \n",
       "2   3  C05739547                                      CHRIS STEVENS   \n",
       "3   4  C05739550                         CAIRO CONDEMNATION - FINAL   \n",
       "4   5  C05739554  H: LATEST: HOW SYRIA IS AIDING QADDAFI AND MOR...   \n",
       "\n",
       "     MetadataTo       MetadataFrom  SenderPersonId           MetadataDateSent  \\\n",
       "0             H  Sullivan, Jacob J            87.0  2012-09-12T04:00:00+00:00   \n",
       "1             H                NaN             NaN  2011-03-03T05:00:00+00:00   \n",
       "2            ;H    Mills, Cheryl D            32.0  2012-09-12T04:00:00+00:00   \n",
       "3             H    Mills, Cheryl D            32.0  2012-09-12T04:00:00+00:00   \n",
       "4  Abedin, Huma                  H            80.0  2011-03-11T05:00:00+00:00   \n",
       "\n",
       "        MetadataDateReleased  \\\n",
       "0  2015-05-22T04:00:00+00:00   \n",
       "1  2015-05-22T04:00:00+00:00   \n",
       "2  2015-05-22T04:00:00+00:00   \n",
       "3  2015-05-22T04:00:00+00:00   \n",
       "4  2015-05-22T04:00:00+00:00   \n",
       "\n",
       "                                     MetadataPdfLink MetadataCaseNumber  \\\n",
       "0  DOCUMENTS/HRC_Email_1_296/HRCH2/DOC_0C05739545...       F-2015-04841   \n",
       "1  DOCUMENTS/HRC_Email_1_296/HRCH1/DOC_0C05739546...       F-2015-04841   \n",
       "2  DOCUMENTS/HRC_Email_1_296/HRCH2/DOC_0C05739547...       F-2015-04841   \n",
       "3  DOCUMENTS/HRC_Email_1_296/HRCH2/DOC_0C05739550...       F-2015-04841   \n",
       "4  DOCUMENTS/HRC_Email_1_296/HRCH1/DOC_0C05739554...       F-2015-04841   \n",
       "\n",
       "                         ...                         ExtractedTo  \\\n",
       "0                        ...                                 NaN   \n",
       "1                        ...                                 NaN   \n",
       "2                        ...                                  B6   \n",
       "3                        ...                                 NaN   \n",
       "4                        ...                                 NaN   \n",
       "\n",
       "                              ExtractedFrom         ExtractedCc  \\\n",
       "0  Sullivan, Jacob J <Sullivan11@state.gov>                 NaN   \n",
       "1                                       NaN                 NaN   \n",
       "2       Mills, Cheryl D <MillsCD@state.gov>        Abedin, Huma   \n",
       "3       Mills, Cheryl D <MillsCD@state.gov>  Mitchell, Andrew B   \n",
       "4                                       NaN                 NaN   \n",
       "\n",
       "                        ExtractedDateSent ExtractedCaseNumber  \\\n",
       "0  Wednesday, September 12, 2012 10:16 AM        F-2015-04841   \n",
       "1                                     NaN        F-2015-04841   \n",
       "2  Wednesday, September 12, 2012 11:52 AM        F-2015-04841   \n",
       "3   Wednesday, September 12,2012 12:44 PM        F-2015-04841   \n",
       "4                                     NaN        F-2015-04841   \n",
       "\n",
       "  ExtractedDocNumber ExtractedDateReleased ExtractedReleaseInPartOrFull  \\\n",
       "0          C05739545            05/13/2015              RELEASE IN FULL   \n",
       "1          C05739546            05/13/2015              RELEASE IN PART   \n",
       "2          C05739547            05/14/2015              RELEASE IN PART   \n",
       "3          C05739550            05/13/2015              RELEASE IN PART   \n",
       "4          C05739554            05/13/2015              RELEASE IN PART   \n",
       "\n",
       "                                   ExtractedBodyText  \\\n",
       "0                                                NaN   \n",
       "1  B6\\nThursday, March 3, 2011 9:45 PM\\nH: Latest...   \n",
       "2                                                Thx   \n",
       "3                                                NaN   \n",
       "4  H <hrod17@clintonemail.com>\\nFriday, March 11,...   \n",
       "\n",
       "                                             RawText  \n",
       "0  UNCLASSIFIED\\nU.S. Department of State\\nCase N...  \n",
       "1  UNCLASSIFIED\\nU.S. Department of State\\nCase N...  \n",
       "2  UNCLASSIFIED\\nU.S. Department of State\\nCase N...  \n",
       "3  UNCLASSIFIED\\nU.S. Department of State\\nCase N...  \n",
       "4  B6\\nUNCLASSIFIED\\nU.S. Department of State\\nCa...  \n",
       "\n",
       "[5 rows x 22 columns]"
      ]
     },
     "execution_count": 2,
     "metadata": {},
     "output_type": "execute_result"
    }
   ],
   "source": [
    "emails = pd.read_csv('./hillary-clinton-emails/Emails.csv')\n",
    "emails.head()"
   ]
  },
  {
   "cell_type": "code",
   "execution_count": 3,
   "metadata": {
    "collapsed": false
   },
   "outputs": [
    {
     "name": "stdout",
     "output_type": "stream",
     "text": [
      "<class 'pandas.core.frame.DataFrame'>\n",
      "RangeIndex: 7945 entries, 0 to 7944\n",
      "Data columns (total 22 columns):\n",
      "Id                              7945 non-null int64\n",
      "DocNumber                       7945 non-null object\n",
      "MetadataSubject                 7649 non-null object\n",
      "MetadataTo                      7690 non-null object\n",
      "MetadataFrom                    7788 non-null object\n",
      "SenderPersonId                  7788 non-null float64\n",
      "MetadataDateSent                7813 non-null object\n",
      "MetadataDateReleased            7945 non-null object\n",
      "MetadataPdfLink                 7945 non-null object\n",
      "MetadataCaseNumber              7945 non-null object\n",
      "MetadataDocumentClass           7945 non-null object\n",
      "ExtractedSubject                6260 non-null object\n",
      "ExtractedTo                     3288 non-null object\n",
      "ExtractedFrom                   6692 non-null object\n",
      "ExtractedCc                     2640 non-null object\n",
      "ExtractedDateSent               6628 non-null object\n",
      "ExtractedCaseNumber             7944 non-null object\n",
      "ExtractedDocNumber              7944 non-null object\n",
      "ExtractedDateReleased           7944 non-null object\n",
      "ExtractedReleaseInPartOrFull    7945 non-null object\n",
      "ExtractedBodyText               6742 non-null object\n",
      "RawText                         7945 non-null object\n",
      "dtypes: float64(1), int64(1), object(20)\n",
      "memory usage: 1.3+ MB\n"
     ]
    }
   ],
   "source": [
    "emails.info()"
   ]
  },
  {
   "cell_type": "markdown",
   "metadata": {},
   "source": [
    "### Looking at the Raw Text of the Emails\n",
    "We can take a look at the raw, unprocessed text of the emails and see that they have unwanted characters such as numbers and newline characters."
   ]
  },
  {
   "cell_type": "code",
   "execution_count": 4,
   "metadata": {
    "collapsed": false
   },
   "outputs": [
    {
     "data": {
      "text/plain": [
       "0       UNCLASSIFIED\\nU.S. Department of State\\nCase N...\n",
       "1       UNCLASSIFIED\\nU.S. Department of State\\nCase N...\n",
       "2       UNCLASSIFIED\\nU.S. Department of State\\nCase N...\n",
       "3       UNCLASSIFIED\\nU.S. Department of State\\nCase N...\n",
       "4       B6\\nUNCLASSIFIED\\nU.S. Department of State\\nCa...\n",
       "5       B6\\nUNCLASSIFIED\\nU.S. Department of State\\nCa...\n",
       "6       UNCLASSIFIED\\nU.S. Department of State\\nCase N...\n",
       "7       B6\\nUNCLASSIFIED\\nU.S. Department of State\\nCa...\n",
       "8       UNCLASSIFIED\\nU.S. Department of State\\nCase N...\n",
       "9       UNCLASSIFIED\\nU.S. Department of State\\nCase N...\n",
       "10      UNCLASSIFIED\\nU.S. Department of State\\nCase N...\n",
       "11      UNCLASSIFIED\\nU.S. Department of State\\nCase N...\n",
       "12      UNCLASSIFIED\\nU.S. Department of State\\nCase N...\n",
       "13      UNCLASSIFIED\\nU.S. Department of State\\nCase N...\n",
       "14      UNCLASSIFIED\\nU.S. Department of State\\nCase N...\n",
       "15      UNCLASSIFIED\\nU.S. Department of State\\nCase N...\n",
       "16      -ottgat,t\\n4 44 4, 0\\n.\\n1.3.141.4443\\nUNCLASS...\n",
       "17      c. 371.14\\nUNCLASSIFIED\\nU.S. Department of St...\n",
       "18      UNCLASSIFIED\\nU.S. Department of State\\nCase N...\n",
       "19      UNCLASSIFIED\\nU.S. Department of State\\nCase N...\n",
       "20      UNCLASSIFIED\\nU.S. Department of State\\nCase N...\n",
       "21      UNCLASSIFIED\\nU.S. Department of State\\nCase N...\n",
       "22      UNCLASSIFIED\\nU.S. Department of State\\nCase N...\n",
       "23      UNCLASSIFIED\\nU.S. Department of State\\nCase N...\n",
       "24      UNCLASSIFIED\\nU.S. Department of State\\nCase N...\n",
       "25      UNCLASSIFIED\\nU.S. Department of State\\nCase N...\n",
       "26      UNCLASSIFIED\\nU.S. Department of State\\nCase N...\n",
       "27      UNCLASSIFIED\\nU.S. Department of State\\nCase N...\n",
       "28      UNCLASSIFIED\\nU.S. Department of State\\nCase N...\n",
       "29      B5\\nUNCLASSIFIED\\nU.S. Department of State\\nCa...\n",
       "                              ...                        \n",
       "7915    UNCLASSIFIED U.S. Department of State Case No....\n",
       "7916    UNCLASSIFIED U.S. Department of State Case No....\n",
       "7917    UNCLASSIFIED U.S. Department of State Case No....\n",
       "7918    UNCLASSIFIED U.S. Department of State Case No....\n",
       "7919    UNCLASSIFIED U.S. Department of State Case No....\n",
       "7920    UNCLASSIFIED U.S. Department of State Case No....\n",
       "7921    UNCLASSIFIED U.S. Department of State Case No....\n",
       "7922    UNCLASSIFIED U.S. Department of State Case No....\n",
       "7923    UNCLASSIFIED U.S. Department of State Case No....\n",
       "7924    UNCLASSIFIED U.S. Department of State Case No....\n",
       "7925    UNCLASSIFIED U.S. Department of State Case No....\n",
       "7926    UNCLASSIFIED U.S. Department of State Case No....\n",
       "7927    UNCLASSIFIED U.S. Department of State Case No....\n",
       "7928    UNCLASSIFIED U.S. Department of State Case No....\n",
       "7929    UNCLASSIFIED U.S. Department of State Case No....\n",
       "7930    UNCLASSIFIED U.S. Department of State Case No....\n",
       "7931    UNCLASSIFIED U.S. Department of State Case No....\n",
       "7932    UNCLASSIFIED U.S. Department of State Case No....\n",
       "7933    UNCLASSIFIED U.S. Department of State Case No....\n",
       "7934    UNCLASSIFIED U.S. Department of State Case No....\n",
       "7935    UNCLASSIFIED U.S. Department of State Case No....\n",
       "7936    UNCLASSIFIED U.S. Department of State Case No....\n",
       "7937    UNCLASSIFIED U.S. Department of State Case No....\n",
       "7938    UNCLASSIFIED U.S. Department of State Case No....\n",
       "7939    UNCLASSIFIED U.S. Department of State Case No....\n",
       "7940    UNCLASSIFIED U.S. Department of State Case No....\n",
       "7941    UNCLASSIFIED U.S. Department of State Case No....\n",
       "7942    UNCLASSIFIED U.S. Department of State Case No....\n",
       "7943    Hi dear Melanne and Alyse,\\nHope this email re...\n",
       "7944    UNCLASSIFIED U.S. Department of State Case No....\n",
       "Name: RawText, Length: 7945, dtype: object"
      ]
     },
     "execution_count": 4,
     "metadata": {},
     "output_type": "execute_result"
    }
   ],
   "source": [
    "emails['RawText']"
   ]
  },
  {
   "cell_type": "markdown",
   "metadata": {},
   "source": [
    "### Preprocessing the Raw Text Data\n",
    "We want to remove any unwanted characters from the text of the emails and we can do so defining a function to preprocess the text using regular expressions. Regular expressions basically allow us to define different sets of characters that we want to ignore or replace with different characters. We can use regular expressions to remove HTML markup, punctuation, numbers, and uppercase characters from the raw text."
   ]
  },
  {
   "cell_type": "code",
   "execution_count": 5,
   "metadata": {
    "collapsed": true
   },
   "outputs": [],
   "source": [
    "import re # regex library\n",
    "def preprocessor(text):\n",
    "    text = re.sub('<[^>]*>', '', text) # Effectively removes HTML markup tags\n",
    "    emoticons = re.findall('(?::|;|=)(?:-)?(?:\\)|\\(|D|P)', text) # Finds emoticons and punctuation\n",
    "    text = re.sub('[\\W]+', ' ', text.lower()) + ' '.join(emoticons).replace('-', '') # removes uppercase and emoticons\n",
    "    text = re.sub(\"[^A-Za-z]\", \" \", text) # removes non-letter characters (numbers)\n",
    "    return text"
   ]
  },
  {
   "cell_type": "markdown",
   "metadata": {},
   "source": [
    "Now that we have defined a function to preprocess the text, we can create a new column called **Processed Text** that contains the preprocessed version of the **RawText** column."
   ]
  },
  {
   "cell_type": "code",
   "execution_count": 6,
   "metadata": {
    "collapsed": true
   },
   "outputs": [],
   "source": [
    "emails['Processed Text'] = emails['RawText'].apply(preprocessor)"
   ]
  },
  {
   "cell_type": "markdown",
   "metadata": {},
   "source": [
    "## Running Latent Dirichlet Allocation with a Count Vectorizer\n",
    "**Latent Dirichlet Allocation** is an unsupervised algorithm for topic modeling that can be used to generate topics from any **corpus**. Here are some basic terms and concepts behind LDA:\n",
    "- A **document** is defined as a sequence of words. In this case, a document is just a single email.\n",
    "- A **corpus** is a collection of documents, which in this case is a collection of emails.\n",
    "- A **topic** is characterized by a particular probability distribution over different words. For example, in the topic of **soccer** certain words such as **free kick** and **offside** are more likely to appear than others.\n",
    "- A document contains a **mixture of different topics** with some topics being more relevant or prominent than others.\n",
    "- LDA involves using the **Dirichlet distribution** to model the distribution of words among different topics.\n",
    "\n",
    "The LDA algorithm allows us to not only extract the major topics from a corpus, but also allows us to create a model that can be used to infer which of these topics are most prevalent in any given document, even if it was not present in the original corpus."
   ]
  },
  {
   "cell_type": "code",
   "execution_count": 7,
   "metadata": {
    "collapsed": false
   },
   "outputs": [
    {
     "name": "stdout",
     "output_type": "stream",
     "text": [
      "Running CountVectorizer...\n",
      "Running Latent Dirichlet Allocation...\n"
     ]
    },
    {
     "name": "stderr",
     "output_type": "stream",
     "text": [
      "//anaconda/lib/python3.5/site-packages/sklearn/decomposition/online_lda.py:294: DeprecationWarning: n_topics has been renamed to n_components in version 0.19 and will be removed in 0.21\n",
      "  DeprecationWarning)\n"
     ]
    }
   ],
   "source": [
    "import warnings\n",
    "warnings.simplefilter(action='ignore', category=FutureWarning)\n",
    "warnings.simplefilter(action='ignore', category=DeprecationWarning)\n",
    "\n",
    "from sklearn.feature_extraction.text import CountVectorizer\n",
    "from sklearn.decomposition import LatentDirichletAllocation\n",
    "\n",
    "num_topics = 10\n",
    "num_features=5000\n",
    "\n",
    "print('Running CountVectorizer...')\n",
    "tf_vectorizer = CountVectorizer(max_df=0.95, min_df=2, max_features=num_features, stop_words='english')\n",
    "tf = tf_vectorizer.fit_transform(emails['Processed Text'])\n",
    "tf_feature_names = tf_vectorizer.get_feature_names()\n",
    "\n",
    "print('Running Latent Dirichlet Allocation...')\n",
    "lda = LatentDirichletAllocation(n_topics=num_topics,\n",
    "                                max_iter=5, \n",
    "                                learning_method='online', \n",
    "                                learning_offset=50.,\n",
    "                                random_state=0).fit(tf)"
   ]
  },
  {
   "cell_type": "markdown",
   "metadata": {},
   "source": [
    "### Defining a Function to Display the Topics Found by LDA"
   ]
  },
  {
   "cell_type": "code",
   "execution_count": 8,
   "metadata": {
    "collapsed": false
   },
   "outputs": [
    {
     "name": "stdout",
     "output_type": "stream",
     "text": [
      "Topic 0:\n",
      "haiti clinton senate health president said new public obama policy\n",
      "Topic 1:\n",
      "sensitive al benghazi libya libyan subject source information agreement produced\n",
      "Topic 2:\n",
      "government security states united development world diplomacy new countries international\n",
      "Topic 3:\n",
      "pm secretary office meeting room en arrive route depart conference\n",
      "Topic 4:\n",
      "said obama president american israel new people clinton iran administration\n",
      "Topic 5:\n",
      "subject huma message abedin original pm cheryl mills sullivan jacob\n",
      "Topic 6:\n",
      "subject message original pm know gov secretary lauren good cc\n",
      "Topic 7:\n",
      "subject information benghazi sensitive house dept agreement comm waiver select\n",
      "Topic 8:\n",
      "said deal ap news sid talks brown party blair uk\n",
      "Topic 9:\n",
      "election party vote percent voters cameron david poll tories conservative\n"
     ]
    }
   ],
   "source": [
    "def display_topics(model, feature_names, no_top_words):\n",
    "    for topic_idx, topic in enumerate(model.components_):\n",
    "        print(\"Topic %d:\" % (topic_idx))\n",
    "        print(\" \".join([feature_names[i]\n",
    "                        for i in topic.argsort()[:-no_top_words - 1:-1]]))\n",
    "\n",
    "num_top_words=10\n",
    "display_topics(lda, tf_feature_names, num_top_words)"
   ]
  },
  {
   "cell_type": "markdown",
   "metadata": {},
   "source": [
    "### Viewing the Distribution of Possible Topics in a Particular Email"
   ]
  },
  {
   "cell_type": "code",
   "execution_count": 9,
   "metadata": {
    "collapsed": false
   },
   "outputs": [
    {
     "data": {
      "text/plain": [
       "'unclassified u s department of state case no f            doc no c         date            state dept produced to house select benghazi comm subject to agreement on sensitive information redactions no foia waiver release in full from sullivan jacob j sent wednesday september               am to subject fw wow from brose christian armed services mailto christian brose armed servic essenate govi sent wednesday september               am to sullivan jacob j subject wow what a wonderful strong and moving statement by your boss please tell her how much sen mccain appreciated it me too unclassified u s department of state case no f            doc no c         date            state dept produced to house select benghazi comm subject to agreement on sensitive information redactions no foia waiver state  cb        '"
      ]
     },
     "execution_count": 9,
     "metadata": {},
     "output_type": "execute_result"
    }
   ],
   "source": [
    "emails['Processed Text'][0]"
   ]
  },
  {
   "cell_type": "code",
   "execution_count": 10,
   "metadata": {
    "collapsed": false
   },
   "outputs": [
    {
     "data": {
      "text/plain": [
       "array([[0.00181877, 0.00181898, 0.00181849, 0.00181824, 0.08650386,\n",
       "        0.0018187 , 0.04979766, 0.85096873, 0.00181836, 0.00181822]])"
      ]
     },
     "execution_count": 10,
     "metadata": {},
     "output_type": "execute_result"
    }
   ],
   "source": [
    "lda.transform(tf_vectorizer.transform([emails['Processed Text'][0]]))"
   ]
  },
  {
   "cell_type": "markdown",
   "metadata": {},
   "source": [
    "### Combining the Count Vectorizer with LDA using a Pipeline"
   ]
  },
  {
   "cell_type": "code",
   "execution_count": 11,
   "metadata": {
    "collapsed": false
   },
   "outputs": [
    {
     "name": "stderr",
     "output_type": "stream",
     "text": [
      "//anaconda/lib/python3.5/site-packages/sklearn/decomposition/online_lda.py:294: DeprecationWarning: n_topics has been renamed to n_components in version 0.19 and will be removed in 0.21\n",
      "  DeprecationWarning)\n"
     ]
    },
    {
     "data": {
      "text/plain": [
       "Pipeline(memory=None,\n",
       "     steps=[('vectorizer', CountVectorizer(analyzer='word', binary=False, decode_error='strict',\n",
       "        dtype=<class 'numpy.int64'>, encoding='utf-8', input='content',\n",
       "        lowercase=True, max_df=0.95, max_features=5000, min_df=2,\n",
       "        ngram_range=(1, 1), preprocessor=None, stop_words='english',\n",
       " ...           random_state=0, topic_word_prior=None,\n",
       "             total_samples=1000000.0, verbose=0))])"
      ]
     },
     "execution_count": 11,
     "metadata": {},
     "output_type": "execute_result"
    }
   ],
   "source": [
    "from sklearn.pipeline import Pipeline\n",
    "\n",
    "num_topics=5\n",
    "tf_vectorizer = CountVectorizer(max_df=0.95, min_df=2, max_features=num_features, stop_words='english')\n",
    "lda = LatentDirichletAllocation(n_topics=num_topics,\n",
    "                                max_iter=5, \n",
    "                                learning_method='online', \n",
    "                                learning_offset=50.,\n",
    "                                random_state=0)\n",
    "\n",
    "lda_pipeline = Pipeline([('vectorizer', tf_vectorizer), ('lda', lda)])\n",
    "lda_pipeline.fit(emails['Processed Text'])"
   ]
  },
  {
   "cell_type": "code",
   "execution_count": 12,
   "metadata": {
    "collapsed": false
   },
   "outputs": [
    {
     "data": {
      "text/plain": [
       "[('vectorizer',\n",
       "  CountVectorizer(analyzer='word', binary=False, decode_error='strict',\n",
       "          dtype=<class 'numpy.int64'>, encoding='utf-8', input='content',\n",
       "          lowercase=True, max_df=0.95, max_features=5000, min_df=2,\n",
       "          ngram_range=(1, 1), preprocessor=None, stop_words='english',\n",
       "          strip_accents=None, token_pattern='(?u)\\\\b\\\\w\\\\w+\\\\b',\n",
       "          tokenizer=None, vocabulary=None)),\n",
       " ('lda', LatentDirichletAllocation(batch_size=128, doc_topic_prior=None,\n",
       "               evaluate_every=-1, learning_decay=0.7,\n",
       "               learning_method='online', learning_offset=50.0,\n",
       "               max_doc_update_iter=100, max_iter=5, mean_change_tol=0.001,\n",
       "               n_components=10, n_jobs=1, n_topics=5, perp_tol=0.1,\n",
       "               random_state=0, topic_word_prior=None,\n",
       "               total_samples=1000000.0, verbose=0))]"
      ]
     },
     "execution_count": 12,
     "metadata": {},
     "output_type": "execute_result"
    }
   ],
   "source": [
    "lda_pipeline.steps"
   ]
  },
  {
   "cell_type": "markdown",
   "metadata": {},
   "source": [
    "### Displaying Topics From the Pipeline"
   ]
  },
  {
   "cell_type": "code",
   "execution_count": 13,
   "metadata": {
    "collapsed": false
   },
   "outputs": [],
   "source": [
    "def display_topics_pipeline(pipeline_lda, no_top_words):\n",
    "    vectorizer = pipeline_lda.steps[0][1]\n",
    "    lda = pipeline_lda.steps[1][1]\n",
    "    tf_feature_names = vectorizer.get_feature_names()\n",
    "    display_topics(lda, tf_feature_names, no_top_words)"
   ]
  },
  {
   "cell_type": "code",
   "execution_count": 14,
   "metadata": {
    "collapsed": false
   },
   "outputs": [
    {
     "name": "stdout",
     "output_type": "stream",
     "text": [
      "Topic 0:\n",
      "haiti public president government\n",
      "Topic 1:\n",
      "benghazi sensitive information agreement\n",
      "Topic 2:\n",
      "party sid said deal\n",
      "Topic 3:\n",
      "subject pm message original\n",
      "Topic 4:\n",
      "said obama president american\n"
     ]
    }
   ],
   "source": [
    "display_topics_pipeline(lda_pipeline, no_top_words=4)"
   ]
  },
  {
   "cell_type": "code",
   "execution_count": 15,
   "metadata": {
    "collapsed": false
   },
   "outputs": [
    {
     "data": {
      "text/plain": [
       "array([[0.00295792, 0.60502409, 0.00296809, 0.17847227, 0.21057763]])"
      ]
     },
     "execution_count": 15,
     "metadata": {},
     "output_type": "execute_result"
    }
   ],
   "source": [
    "lda_pipeline.transform([emails['Processed Text'][5]])"
   ]
  },
  {
   "cell_type": "code",
   "execution_count": 16,
   "metadata": {
    "collapsed": false
   },
   "outputs": [
    {
     "data": {
      "text/plain": [
       "array([[0.05024202, 0.79940472, 0.0500154 , 0.05000056, 0.05033731]])"
      ]
     },
     "execution_count": 16,
     "metadata": {},
     "output_type": "execute_result"
    }
   ],
   "source": [
    "lda_pipeline.transform(['Benghazi is controversy we must avoid since it is sensitive.'])"
   ]
  }
 ],
 "metadata": {
  "anaconda-cloud": {},
  "kernelspec": {
   "display_name": "Python [conda root]",
   "language": "python",
   "name": "conda-root-py"
  },
  "language_info": {
   "codemirror_mode": {
    "name": "ipython",
    "version": 3
   },
   "file_extension": ".py",
   "mimetype": "text/x-python",
   "name": "python",
   "nbconvert_exporter": "python",
   "pygments_lexer": "ipython3",
   "version": "3.5.2"
  }
 },
 "nbformat": 4,
 "nbformat_minor": 2
}
